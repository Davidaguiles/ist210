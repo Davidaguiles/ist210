{
  "nbformat": 4,
  "nbformat_minor": 0,
  "metadata": {
    "colab": {
      "name": "lab 1",
      "provenance": [],
      "collapsed_sections": []
    },
    "kernelspec": {
      "name": "python3",
      "display_name": "Python 3"
    }
  },
  "cells": [
    {
      "cell_type": "markdown",
      "metadata": {
        "id": "1miVmRO2HMy-",
        "colab_type": "text"
      },
      "source": [
        "## Name ##\n",
        "David Aguiles "
      ]
    },
    {
      "cell_type": "code",
      "metadata": {
        "id": "jwOvA-pkHClN",
        "colab_type": "code",
        "colab": {}
      },
      "source": [
        ""
      ],
      "execution_count": 0,
      "outputs": []
    },
    {
      "cell_type": "markdown",
      "metadata": {
        "id": "PEOp_8CnHUnB",
        "colab_type": "text"
      },
      "source": [
        "## IST related interest ##\n",
        "Data Science and Cyber Forensics is what interests me. I would learn to learn how to code java more and master python. My coding experience is small, however I am willing to learn as much as possible."
      ]
    },
    {
      "cell_type": "code",
      "metadata": {
        "id": "M97Morw2HBv1",
        "colab_type": "code",
        "colab": {}
      },
      "source": [
        ""
      ],
      "execution_count": 0,
      "outputs": []
    },
    {
      "cell_type": "markdown",
      "metadata": {
        "id": "_6gZTRDbHgIJ",
        "colab_type": "text"
      },
      "source": [
        "## Future Job/Career ##\n",
        "Data Analytics for a well established business or bank. "
      ]
    },
    {
      "cell_type": "code",
      "metadata": {
        "id": "eWjR6RVxIC9E",
        "colab_type": "code",
        "colab": {}
      },
      "source": [
        ""
      ],
      "execution_count": 0,
      "outputs": []
    },
    {
      "cell_type": "markdown",
      "metadata": {
        "id": "0fIiSbbIIFOn",
        "colab_type": "text"
      },
      "source": [
        "![alt text](https://raw.githubusercontent.com/Davidaguiles/ist210/master/IMG_2176.JPG)"
      ]
    }
  ]
}